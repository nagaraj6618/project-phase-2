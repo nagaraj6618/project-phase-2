{
 "cells": [
  {
   "cell_type": "code",
   "execution_count": 1,
   "id": "55974af6-0a75-46a4-bbc4-eeec4377115d",
   "metadata": {},
   "outputs": [
    {
     "name": "stdout",
     "output_type": "stream",
     "text": [
      "Collecting SpeechRecognition\n",
      "  Downloading SpeechRecognition-3.10.4-py2.py3-none-any.whl.metadata (28 kB)\n",
      "Collecting pyaudio\n",
      "  Downloading PyAudio-0.2.14-cp38-cp38-win_amd64.whl.metadata (2.7 kB)\n",
      "Requirement already satisfied: requests>=2.26.0 in c:\\users\\pavithra.g\\anaconda3\\envs\\speech_recognition\\lib\\site-packages (from SpeechRecognition) (2.32.3)\n",
      "Requirement already satisfied: typing-extensions in c:\\users\\pavithra.g\\anaconda3\\envs\\speech_recognition\\lib\\site-packages (from SpeechRecognition) (4.11.0)\n",
      "Requirement already satisfied: charset-normalizer<4,>=2 in c:\\users\\pavithra.g\\anaconda3\\envs\\speech_recognition\\lib\\site-packages (from requests>=2.26.0->SpeechRecognition) (3.3.2)\n",
      "Requirement already satisfied: idna<4,>=2.5 in c:\\users\\pavithra.g\\anaconda3\\envs\\speech_recognition\\lib\\site-packages (from requests>=2.26.0->SpeechRecognition) (3.7)\n",
      "Requirement already satisfied: urllib3<3,>=1.21.1 in c:\\users\\pavithra.g\\anaconda3\\envs\\speech_recognition\\lib\\site-packages (from requests>=2.26.0->SpeechRecognition) (2.2.3)\n",
      "Requirement already satisfied: certifi>=2017.4.17 in c:\\users\\pavithra.g\\anaconda3\\envs\\speech_recognition\\lib\\site-packages (from requests>=2.26.0->SpeechRecognition) (2024.8.30)\n",
      "Downloading SpeechRecognition-3.10.4-py2.py3-none-any.whl (32.8 MB)\n",
      "   ---------------------------------------- 0.0/32.8 MB ? eta -:--:--\n",
      "   - -------------------------------------- 1.3/32.8 MB 9.5 MB/s eta 0:00:04\n",
      "   ---- ----------------------------------- 3.7/32.8 MB 10.4 MB/s eta 0:00:03\n",
      "   ------- -------------------------------- 5.8/32.8 MB 10.4 MB/s eta 0:00:03\n",
      "   --------- ------------------------------ 7.9/32.8 MB 10.6 MB/s eta 0:00:03\n",
      "   ----------- ---------------------------- 9.4/32.8 MB 9.8 MB/s eta 0:00:03\n",
      "   -------------- ------------------------- 11.8/32.8 MB 10.1 MB/s eta 0:00:03\n",
      "   ---------------- ----------------------- 13.9/32.8 MB 10.0 MB/s eta 0:00:02\n",
      "   ------------------- -------------------- 16.0/32.8 MB 10.2 MB/s eta 0:00:02\n",
      "   ---------------------- ----------------- 18.1/32.8 MB 10.2 MB/s eta 0:00:02\n",
      "   ------------------------ --------------- 20.4/32.8 MB 10.3 MB/s eta 0:00:02\n",
      "   --------------------------- ------------ 22.5/32.8 MB 10.3 MB/s eta 0:00:01\n",
      "   ------------------------------ --------- 24.9/32.8 MB 10.4 MB/s eta 0:00:01\n",
      "   -------------------------------- ------- 26.7/32.8 MB 10.3 MB/s eta 0:00:01\n",
      "   ----------------------------------- ---- 28.8/32.8 MB 10.3 MB/s eta 0:00:01\n",
      "   ------------------------------------- -- 31.2/32.8 MB 10.3 MB/s eta 0:00:01\n",
      "   ---------------------------------------  32.8/32.8 MB 10.3 MB/s eta 0:00:01\n",
      "   ---------------------------------------- 32.8/32.8 MB 10.0 MB/s eta 0:00:00\n",
      "Downloading PyAudio-0.2.14-cp38-cp38-win_amd64.whl (164 kB)\n",
      "Installing collected packages: pyaudio, SpeechRecognition\n",
      "Successfully installed SpeechRecognition-3.10.4 pyaudio-0.2.14\n"
     ]
    }
   ],
   "source": [
    "!pip install SpeechRecognition pyaudio"
   ]
  },
  {
   "cell_type": "code",
   "execution_count": 1,
   "id": "9024cf48",
   "metadata": {},
   "outputs": [
    {
     "name": "stdout",
     "output_type": "stream",
     "text": [
      "Say something\n",
      "You said: hi this is Pavitra nice to meet you\n"
     ]
    }
   ],
   "source": [
    "import speech_recognition as sr\n",
    "\n",
    "r = sr.Recognizer()\n",
    "duration = 55\n",
    "print(\"Say something\")\n",
    "with sr.Microphone() as source:\n",
    "    audio_data = r.listen(source, timeout=duration)\n",
    "\n",
    "try:\n",
    "    text = r.recognize_google(audio_data)  # Use recognize_google if you want to use the Google API\n",
    "    print(\"You said: \" + text)\n",
    "except sr.UnknownValueError:\n",
    "    print(\"Sorry, couldn't understand the audio\")\n",
    "except sr.RequestError as e:\n",
    "    print(f'Error with request to Google Speech Recognition service: {e}')\n"
   ]
  },
  {
   "cell_type": "code",
   "execution_count": null,
   "id": "80b883e6-c7df-4351-8de4-5c3c36a5b4c4",
   "metadata": {},
   "outputs": [],
   "source": []
  }
 ],
 "metadata": {
  "kernelspec": {
   "display_name": "Python 3 (ipykernel)",
   "language": "python",
   "name": "python3"
  },
  "language_info": {
   "codemirror_mode": {
    "name": "ipython",
    "version": 3
   },
   "file_extension": ".py",
   "mimetype": "text/x-python",
   "name": "python",
   "nbconvert_exporter": "python",
   "pygments_lexer": "ipython3",
   "version": "3.8.20"
  }
 },
 "nbformat": 4,
 "nbformat_minor": 5
}
